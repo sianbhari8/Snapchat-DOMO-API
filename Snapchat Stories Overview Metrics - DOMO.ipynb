{
 "cells": [
  {
   "cell_type": "code",
   "execution_count": 1,
   "id": "8e5ef510-537c-4ef0-ac86-4878990fc11f",
   "metadata": {
    "tags": []
   },
   "outputs": [
    {
     "name": "stdout",
     "output_type": "stream",
     "text": [
      "A newer version of domojupyter is available. Update domojupyter with the following command:\n",
      "\n",
      "\tconda install -c https://domo-conda-prod.s3.amazonaws.com/domo domojupyter=1.1.32\n"
     ]
    }
   ],
   "source": [
    "import requests\n",
    "import pandas as pd\n",
    "import domojupyter as domo\n",
    "\n",
    "url_token = \"https://accounts.snapchat.com/login/oauth2/access_token\"\n",
    "payload_token = (\n",
    "    \"grant_type=refresh_token&refresh_token=XXXXXXXXXXX&client_id=XXXXXXXXXXX\"\n",
    ")\n",
    "headers_token = {\n",
    "    'Content-Type': 'application/x-www-form-urlencoded',\n",
    "    'Cookie': 'sc-wcid=XXXXXXXXXX'\n",
    "}\n",
    "\n",
    "response_token = requests.post(url_token, headers=headers_token, data=payload_token)\n",
    "\n",
    "if response_token.status_code == 200:\n",
    "    access_token = response_token.json().get(\"access_token\", \"\")\n",
    "\n",
    "    urls = {\n",
    "        \"GWR Main\": \"https://api.snapkit.com/v1/stories/studio/analytics/publisher/XXXXXXXXX/stories?fromDate=2024-01-01&toDate=2026-01-01\",\n",
    "        \"Spanish\": \"https://api.snapkit.com/v1/stories/studio/analytics/publisher/XXXXXXXXX/stories?fromDate=2024-01-01&toDate=2026-01-01\",\n",
    "        \"French\": \"https://api.snapkit.com/v1/stories/studio/analytics/publisher/XXXXXXX/stories?fromDate=2024-01-01&toDate=2026-01-01\",\n",
    "        \"Arabic\": \"https://api.snapkit.com/v1/stories/studio/analytics/publisher/XXXXXXXXXX/stories?fromDate=2024-01-01&toDate=2026-01-01\"\n",
    "    }\n",
    "    \n",
    "    headers_data = {\n",
    "        'accept': 'application/json',\n",
    "        'authorization': f'Bearer {access_token}'\n",
    "    }\n",
    "\n",
    "    summary_data = []\n",
    "    \n",
    "    for channel, url in urls.items():\n",
    "        response_data = requests.get(url, headers=headers_data)\n",
    "        \n",
    "        if response_data.status_code == 200:\n",
    "            data = response_data.json()\n",
    " \n",
    "            if data and 'GLOBAL' in data:\n",
    "                \n",
    "                df_stories = pd.json_normalize(data['GLOBAL'])\n",
    "                df_stories['Snap.Channel'] = channel\n",
    "    \n",
    "                summary_data.append(df_stories)\n",
    "            else:\n",
    "                print(f\"No 'GLOBAL' data found for {channel}\")\n",
    "        else:\n",
    "            print(f\"Failed to retrieve data for {channel}. Status code:\", response_data.status_code)\n",
    "    if summary_data:\n",
    "        final_df = pd.concat(summary_data, ignore_index=True)\n",
    "        final_df['_BATCH_LAST_RUN_'] = pd.Timestamp.now().date()\n",
    "        \n",
    "        print(\"Success - Combined Data Preview:\")\n",
    "        print(final_df.head())\n",
    "\n",
    "        domo.write_dataframe(final_df, 'Snapchat | Combined Stories | Output', update_method=\"APPEND\")\n",
    "    else:\n",
    "        print(\"No data retrieved.\")"
   ]
  }
 ],
 "metadata": {
  "kernelspec": {
   "display_name": "Python",
   "language": "python",
   "name": "python_3_12"
  },
  "language_info": {
   "codemirror_mode": {
    "name": "ipython",
    "version": 3
   },
   "file_extension": ".py",
   "mimetype": "text/x-python",
   "name": "python",
   "nbconvert_exporter": "python",
   "pygments_lexer": "ipython3",
   "version": "3.12.3"
  }
 },
 "nbformat": 4,
 "nbformat_minor": 5
}
