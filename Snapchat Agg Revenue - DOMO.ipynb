{
 "cells": [
  {
   "cell_type": "code",
   "execution_count": 1,
   "id": "8e5ef510-537c-4ef0-ac86-4878990fc11f",
   "metadata": {
    "tags": []
   },
   "outputs": [
    {
     "name": "stdout",
     "output_type": "stream",
     "text": [
      "A newer version of domojupyter is available. Update domojupyter with the following command:\n",
      "\n",
      "\tconda install -c https://domo-conda-prod.s3.amazonaws.com/domo domojupyter=1.1.32\n"
     ]
    }
   ],
   "source": [
    "import requests\n",
    "import pandas as pd\n",
    "import domojupyter as domo\n",
    "url_token = \"https://accounts.snapchat.com/login/oauth2/access_token\"\n",
    "payload_token = (\n",
    "    \"grant_type=refresh_token&refresh_token=XXXXXXXX&client_secret=XXXXXXXX\"\n",
    ")\n",
    "headers_token = {\n",
    "    'Content-Type': 'application/x-www-form-urlencoded',\n",
    "    'Cookie': 'XXXXXXXXXXX'\n",
    "}\n",
    "\n",
    "response_token = requests.post(url_token, headers=headers_token, data=payload_token)\n",
    "\n",
    "if response_token.status_code == 200:\n",
    "\n",
    "    access_token = response_token.json().get(\"access_token\", \"\")\n",
    "\n",
    "    urls = {\n",
    "        \"Main\": \"https://api.snapkit.com/v1/stories/studio/revenue/creator/XXXXXXX/stories?start_date=2024-01-01&end_date=2026-01-01\",\n",
    "        \"Spanish\": \"https://api.snapkit.com/v1/stories/studio/revenue/creator/XXXXXXX/stories?start_date=2024-01-01&end_date=2026-01-01\",\n",
    "        \"French\": \"https://api.snapkit.com/v1/stories/studio/revenue/creator/XXXXXX/stories?start_date=2024-01-01&end_date=2026-01-01\",\n",
    "        \"Arabic\": \"https://api.snapkit.com/v1/stories/studio/revenue/creator/XXXXXX/stories?start_date=2024-01-01&end_date=2026-01-01\"\n",
    "    }\n",
    "    \n",
    "    headers_data = {\n",
    "        'accept': 'application/json',\n",
    "        'authorization': f'Bearer {access_token}'\n",
    "    }\n",
    "    \n",
    "    df_list = []\n",
    "\n",
    "    for name, url in urls.items():\n",
    "        response = requests.get(url, headers=headers_data)\n",
    "        if response.status_code == 200:\n",
    "            data = response.json()\n",
    "            \n",
    "            if 'stories' in data:\n",
    "                stories_data = data['stories']\n",
    "                \n",
    "                df_stories = pd.json_normalize(stories_data)\n",
    "                \n",
    "                df_stories['Snap.Channel'] = name\n",
    "           \n",
    "                df_list.append(df_stories)\n",
    "\n",
    "    combined_df = pd.concat(df_list, ignore_index=True)\n",
    "    \n",
    "    combined_df = combined_df.rename(columns={\n",
    "    'end_date': 'Snap.End Date',\n",
    "    'start_date': 'Snap.Start Date',\n",
    "    'aggregated_metrics.sold_impressions': 'Snap.Impressions',\n",
    "    'aggregated_metrics.ecpm': 'Snap.ECPM',\n",
    "    'aggregated_metrics.revenue': 'Snap.Revenue',\n",
    "    'name': 'Snap.Name',\n",
    "    'id': 'Snap.ID',\n",
    "    'is_available': 'Snap.Is Available?'\n",
    "})\n",
    "\n",
    "combined_df['Snap.End Date'] = pd.to_datetime(combined_df['Snap.End Date'], errors='coerce').dt.tz_localize(None)\n",
    "combined_df['Snap.Start Date'] = pd.to_datetime(combined_df['Snap.Start Date'], errors='coerce').dt.tz_localize(None)\n",
    "unconverted_end_dates = combined_df[combined_df['Snap.End Date'].isna()]\n",
    "unconverted_start_dates = combined_df[combined_df['Snap.Start Date'].isna()]\n",
    "\n",
    "combined_df['_BATCH_LAST_RUN_'] = pd.Timestamp.now().date()\n",
    "\n",
    "domo.write_dataframe(combined_df, 'Snapchat | Combined Revenue | Output', update_method=\"APPEND\")"
   ]
  }
 ],
 "metadata": {
  "kernelspec": {
   "display_name": "Python",
   "language": "python",
   "name": "python_3_12"
  },
  "language_info": {
   "codemirror_mode": {
    "name": "ipython",
    "version": 3
   },
   "file_extension": ".py",
   "mimetype": "text/x-python",
   "name": "python",
   "nbconvert_exporter": "python",
   "pygments_lexer": "ipython3",
   "version": "3.12.3"
  }
 },
 "nbformat": 4,
 "nbformat_minor": 5
}
