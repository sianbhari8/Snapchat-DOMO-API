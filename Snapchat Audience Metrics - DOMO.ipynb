{
 "cells": [
  {
   "cell_type": "code",
   "execution_count": 1,
   "id": "8e5ef510-537c-4ef0-ac86-4878990fc11f",
   "metadata": {
    "tags": []
   },
   "outputs": [
    {
     "name": "stdout",
     "output_type": "stream",
     "text": [
      "A newer version of domojupyter is available. Update domojupyter with the following command:\n",
      "\n",
      "\tconda install -c https://domo-conda-prod.s3.amazonaws.com/domo domojupyter=1.1.32\n"
     ]
    }
   ],
   "source": [
    "import requests\n",
    "import pandas as pd\n",
    "import domojupyter as domo\n",
    "\n",
    "url_token = \"https://accounts.snapchat.com/login/oauth2/access_token\"\n",
    "payload_token = (\n",
    "    \"grant_type=refresh_token&refresh_token=XXXXXXX&client_id=XXXXXXX\"\n",
    ")\n",
    "headers_token = {\n",
    "    'Content-Type': 'application/x-www-form-urlencoded',\n",
    "    'Cookie': 'sc-wcid=XXXXXXXXX'\n",
    "}\n",
    "\n",
    "response_token = requests.post(url_token, headers=headers_token, data=payload_token)\n",
    "\n",
    "if response_token.status_code == 200:\n",
    "    access_token = response_token.json().get(\"access_token\", \"\")\n",
    "\n",
    "    urls = {\n",
    "        \"Main\": \"https://api.snapkit.com/v1/stories/studio/revenue/creator/XXXXX/aggregate?start_date=2024-01-01&end_date=2026-01-01\",\n",
    "        \"Spanish\": \"https://api.snapkit.com/v1/stories/studio/revenue/creator/XXXXX/aggregate?start_date=2024-01-01&end_date=2026-01-01\",\n",
    "        \"French\": \"https://api.snapkit.com/v1/stories/studio/revenue/creator/XXXXX/aggregate?start_date=2024-01-01&end_date=2026-01-01\",\n",
    "        \"Arabic\": \"https://api.snapkit.com/v1/stories/studio/revenue/creator/XXXXX/aggregate?start_date=2024-01-01&end_date=2026-01-01\"\n",
    "    }\n",
    "    \n",
    "    headers_data = {\n",
    "        'accept': 'application/json',\n",
    "        'authorization': f'Bearer {access_token}'\n",
    "    }\n",
    "    \n",
    "    timeseries_data_list = []\n",
    "\n",
    "    for name, url in urls.items():\n",
    "        response = requests.get(url, headers=headers_data)\n",
    "        if response.status_code == 200:\n",
    "            data = response.json()\n",
    "\n",
    "            if 'timeseries_metrics' in data['metadata']:\n",
    "                timeseries_metrics = data['metadata']['timeseries_metrics']\n",
    "                df_timeseries = pd.json_normalize(timeseries_metrics)\n",
    "                \n",
    "                df_timeseries['date'] = pd.to_datetime(df_timeseries['date']).dt.tz_localize(None)\n",
    "                \n",
    "                df_timeseries['Snap.Channel'] = name\n",
    "                timeseries_data_list.append(df_timeseries)\n",
    "            else:\n",
    "                print(f\"No 'timeseries_metrics' data found for {name}\")\n",
    "        else:\n",
    "            print(f\"Failed to retrieve data for {name}: {response.text}\")\n",
    "            \n",
    "    if timeseries_data_list:\n",
    "        combined_df = pd.concat(timeseries_data_list, ignore_index=True)\n",
    "        \n",
    "        combined_df['_BATCH_LAST_RUN_'] = pd.Timestamp.now().date()\n",
    "\n",
    "        domo.write_dataframe(combined_df, 'Snapchat | Combined Aggregated Revenue | Output')\n",
    "        \n",
    "        print(\"Success\")\n",
    "    else:\n",
    "        print(\"No data retrieved.\")"
   ]
  }
 ],
 "metadata": {
  "kernelspec": {
   "display_name": "Python",
   "language": "python",
   "name": "python_3_12"
  },
  "language_info": {
   "codemirror_mode": {
    "name": "ipython",
    "version": 3
   },
   "file_extension": ".py",
   "mimetype": "text/x-python",
   "name": "python",
   "nbconvert_exporter": "python",
   "pygments_lexer": "ipython3",
   "version": "3.12.3"
  }
 },
 "nbformat": 4,
 "nbformat_minor": 5
}
