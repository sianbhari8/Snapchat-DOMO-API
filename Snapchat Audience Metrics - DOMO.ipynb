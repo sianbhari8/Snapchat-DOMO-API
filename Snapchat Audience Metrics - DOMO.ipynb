{
 "cells": [
  {
   "cell_type": "code",
   "execution_count": 1,
   "id": "8e5ef510-537c-4ef0-ac86-4878990fc11f",
   "metadata": {
    "tags": []
   },
   "outputs": [
    {
     "name": "stdout",
     "output_type": "stream",
     "text": [
      "A newer version of domojupyter is available. Update domojupyter with the following command:\n",
      "\n",
      "\tconda install -c https://domo-conda-prod.s3.amazonaws.com/domo domojupyter=1.1.32\n"
     ]
    }
   ],
   "source": [
    "import requests\n",
    "import pandas as pd\n",
    "import domojupyter as domo\n",
    "\n",
    "url_token = \"https://accounts.snapchat.com/login/oauth2/access_token\"\n",
    "payload_token = (\n",
    "    \"grant_type=refresh_token&refresh_token=XXXXXX&client_secret=XXXXX\"\n",
    ")\n",
    "headers_token = {\n",
    "    'Content-Type': 'application/x-www-form-urlencoded',\n",
    "    'Cookie': 'sc-wcid=XXXXXX'\n",
    "}\n",
    "\n",
    "response_token = requests.post(url_token, headers=headers_token, data=payload_token)\n",
    "\n",
    "if response_token.status_code == 200:\n",
    "    access_token = response_token.json().get(\"access_token\", \"\")\n",
    "\n",
    "    urls = {\n",
    "        \"Main\": \"https://api.snapkit.com/v1/stories/studio/analytics/publisher/XXXXXXXXX/daily/audience?fromDate=2024-01-01&toDate=2026-01-01\",\n",
    "        \"Spanish\": \"https://api.snapkit.com/v1/stories/studio/analytics/publisher/XXXXXXXXXXX/daily/audience?fromDate=2024-01-01&toDate=2026-01-01\",\n",
    "        \"French\": \"https://api.snapkit.com/v1/stories/studio/analytics/publisher/XXXXXXXXXXX/daily/audience?fromDate=2024-01-01&toDate=2026-01-01\",\n",
    "        \"Arabic\": \"https://api.snapkit.com/v1/stories/studio/analytics/publisher/XXXXXXXXXX/daily/audience?fromDate=2024-01-01&toDate=2026-01-01\"\n",
    "    }\n",
    "    \n",
    "    headers_data = {\n",
    "        'accept': 'application/json',\n",
    "        'authorization': f'Bearer {access_token}'\n",
    "    }\n",
    "    \n",
    "    \n",
    "df_list = []\n",
    "\n",
    "for channel, url in urls.items():\n",
    "    response_data = requests.get(url, headers=headers_data)\n",
    "    \n",
    "    if response_data.status_code == 200:\n",
    "        data = response_data.json()\n",
    "        \n",
    "        if data:\n",
    "            df_stories = pd.json_normalize(data, sep='_')\n",
    "            df_stories['Snap.Channel'] = channel\n",
    "            df_list.append(df_stories)\n",
    "        else:\n",
    "            print(f\"No data found for {channel}\")\n",
    "    else:\n",
    "        print(f\"Failed to retrieve data for {channel}. Status code:\", response_data.status_code)\n",
    "\n",
    "if df_list:\n",
    "    final_df = pd.concat(df_list, ignore_index=True)\n",
    "    final_df['_BATCH_LAST_RUN_'] = pd.Timestamp.now().date()\n",
    "    \n",
    "    print(\"Success\")\n",
    "else:\n",
    "    print(\"No data retrieved.\")\n",
    "    \n",
    "domo.write_dataframe(final_df, 'Snapchat | Combined Audience | Output')\n"
   ]
  }
 ],
 "metadata": {
  "kernelspec": {
   "display_name": "Python",
   "language": "python",
   "name": "python_3_12"
  },
  "language_info": {
   "codemirror_mode": {
    "name": "ipython",
    "version": 3
   },
   "file_extension": ".py",
   "mimetype": "text/x-python",
   "name": "python",
   "nbconvert_exporter": "python",
   "pygments_lexer": "ipython3",
   "version": "3.12.3"
  }
 },
 "nbformat": 4,
 "nbformat_minor": 5
}
